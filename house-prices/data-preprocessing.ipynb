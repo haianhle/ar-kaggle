{
 "cells": [
  {
   "cell_type": "markdown",
   "metadata": {},
   "source": [
    "# House Prices: Advanced Regression Techniques\n",
    "\n",
    "A Kaggle competition on predicting sales prices and practice feature engineering, regression techniques such as random forests, and gradient boosting \n",
    "\n",
    "https://www.kaggle.com/c/house-prices-advanced-regression-techniques/overview"
   ]
  },
  {
   "cell_type": "markdown",
   "metadata": {},
   "source": [
    "## 1- Load libraries"
   ]
  },
  {
   "cell_type": "code",
   "execution_count": 1,
   "metadata": {},
   "outputs": [
    {
     "name": "stderr",
     "output_type": "stream",
     "text": [
      "/anaconda3/lib/python3.6/site-packages/h5py/__init__.py:36: FutureWarning: Conversion of the second argument of issubdtype from `float` to `np.floating` is deprecated. In future, it will be treated as `np.float64 == np.dtype(float).type`.\n",
      "  from ._conv import register_converters as _register_converters\n"
     ]
    },
    {
     "name": "stdout",
     "output_type": "stream",
     "text": [
      "1.12.0\n",
      "2.1.6-tf\n"
     ]
    }
   ],
   "source": [
    "import numpy as np\n",
    "import pandas as pd\n",
    "import sklearn\n",
    "%matplotlib inline\n",
    "import matplotlib.pyplot as plt\n",
    "import seaborn as sns\n",
    "from scipy import stats\n",
    "import tensorflow as tf\n",
    "from tensorflow.keras import layers\n",
    "\n",
    "print(tf.VERSION)\n",
    "print(tf.keras.__version__)"
   ]
  },
  {
   "cell_type": "markdown",
   "metadata": {},
   "source": [
    "## 2- Import and preprocess data"
   ]
  },
  {
   "cell_type": "code",
   "execution_count": 2,
   "metadata": {
    "scrolled": false
   },
   "outputs": [],
   "source": [
    "data_df = pd.read_csv('data/train.csv')\n",
    "test_data_df = pd.read_csv('data/test.csv')"
   ]
  },
  {
   "cell_type": "markdown",
   "metadata": {},
   "source": [
    "Make a copy of data_df and test_data_df for preprocessing."
   ]
  },
  {
   "cell_type": "code",
   "execution_count": 3,
   "metadata": {},
   "outputs": [],
   "source": [
    "train_df = data_df.copy()\n",
    "test_df = test_data_df.copy()"
   ]
  },
  {
   "cell_type": "markdown",
   "metadata": {},
   "source": [
    "## 3- Exploratory Data Analysis"
   ]
  },
  {
   "cell_type": "markdown",
   "metadata": {},
   "source": [
    "### Training data"
   ]
  },
  {
   "cell_type": "code",
   "execution_count": 4,
   "metadata": {},
   "outputs": [],
   "source": [
    "train_df['PoolQC'].fillna('None', inplace=True)\n",
    "test_df[(test_df['PoolArea'] != 0) & (test_df['PoolQC'].isnull())].loc[:, ['PoolQC']].fillna('Fa', inplace=True)\n",
    "test_df['PoolQC'].fillna('None', inplace=True)"
   ]
  },
  {
   "cell_type": "code",
   "execution_count": 5,
   "metadata": {},
   "outputs": [],
   "source": [
    "train_df.drop(columns=['MiscFeature'], inplace=True)\n",
    "test_df.drop(columns=['MiscFeature'], inplace=True)"
   ]
  },
  {
   "cell_type": "code",
   "execution_count": 6,
   "metadata": {},
   "outputs": [],
   "source": [
    "train_df['Alley'].fillna('None', inplace=True)\n",
    "test_df['Alley'].fillna('None', inplace=True)"
   ]
  },
  {
   "cell_type": "code",
   "execution_count": 7,
   "metadata": {},
   "outputs": [],
   "source": [
    "train_df.drop(columns=['Fence'], inplace=True)\n",
    "test_df.drop(columns=['Fence'], inplace=True)"
   ]
  },
  {
   "cell_type": "code",
   "execution_count": 8,
   "metadata": {},
   "outputs": [],
   "source": [
    "train_df['FireplaceQu'].fillna('None', inplace=True)\n",
    "test_df['FireplaceQu'].fillna('None', inplace=True)"
   ]
  },
  {
   "cell_type": "code",
   "execution_count": 9,
   "metadata": {},
   "outputs": [],
   "source": [
    "test_df['LotFrontage'].fillna(test_df['LotFrontage'].median(), inplace=True)\n",
    "train_df['LotFrontage'].fillna(data_df['LotFrontage'].median(), inplace=True)"
   ]
  },
  {
   "cell_type": "code",
   "execution_count": 10,
   "metadata": {},
   "outputs": [],
   "source": [
    "train_df['GarageCond'].fillna('None', inplace=True)\n",
    "train_df['GarageType'].fillna('None', inplace=True)\n",
    "train_df['GarageYrBlt'].fillna('None', inplace=True)\n",
    "train_df['GarageFinish'].fillna('None', inplace=True)\n",
    "train_df['GarageQual'].fillna('None', inplace=True)"
   ]
  },
  {
   "cell_type": "code",
   "execution_count": 11,
   "metadata": {},
   "outputs": [],
   "source": [
    "test_df['GarageArea'].fillna(test_df['GarageArea'].median(), inplace=True)"
   ]
  },
  {
   "cell_type": "code",
   "execution_count": 12,
   "metadata": {},
   "outputs": [],
   "source": [
    "test_df.at[666, 'GarageYrBlt'] = 1983\n",
    "test_df.at[1116, 'GarageYrBlt'] = 1999\n",
    "\n",
    "test_df.at[666, 'GarageFinish'] = 'Unf'\n",
    "test_df.at[1116, 'GarageFinish'] = 'Unf'\n",
    "\n",
    "test_df.at[666, 'GarageQual'] = 'TA'\n",
    "test_df.at[1116, 'GarageQual'] = 'TA'"
   ]
  },
  {
   "cell_type": "code",
   "execution_count": 13,
   "metadata": {},
   "outputs": [],
   "source": [
    "test_df['GarageCond'].fillna('None', inplace=True)\n",
    "test_df['GarageType'].fillna('None', inplace=True)\n",
    "test_df['GarageYrBlt'].fillna('None', inplace=True)\n",
    "test_df['GarageFinish'].fillna('None', inplace=True)\n",
    "test_df['GarageQual'].fillna('None', inplace=True)"
   ]
  },
  {
   "cell_type": "code",
   "execution_count": 14,
   "metadata": {},
   "outputs": [],
   "source": [
    "train_df.at[332, 'BsmtFinType2'] = 'Unf'\n",
    "train_df.at[948, 'BsmtExposure'] = 'No'"
   ]
  },
  {
   "cell_type": "code",
   "execution_count": 15,
   "metadata": {},
   "outputs": [],
   "source": [
    "train_df['BsmtExposure'].fillna('None', inplace=True)\n",
    "train_df['BsmtFinType2'].fillna('None', inplace=True)\n",
    "train_df['BsmtFinType1'].fillna('None', inplace=True)\n",
    "train_df['BsmtCond'].fillna('None', inplace=True)\n",
    "train_df['BsmtQual'].fillna('None', inplace=True)"
   ]
  },
  {
   "cell_type": "code",
   "execution_count": 16,
   "metadata": {},
   "outputs": [],
   "source": [
    "test_df.at[660, 'BsmtQual'] = None\n",
    "test_df.at[660, 'BsmtCond'] = None\n",
    "test_df.at[660, 'BsmtExposure'] = None\n",
    "test_df.at[660, 'BsmtFinType1'] = None\n",
    "test_df.at[660, 'BsmtFinSF1'] = 0\n",
    "test_df.at[660, 'BsmtFinType2'] = None\n",
    "test_df.at[660, 'BsmtFinSF2'] = 0\n",
    "test_df.at[660, 'BsmtUnfSF'] = 0\n",
    "test_df.at[660, 'TotalBsmtSF'] = 0\n",
    "test_df.at[660, 'BsmtFullBath'] = None\n",
    "test_df.at[660, 'BsmtHalfBath'] = None"
   ]
  },
  {
   "cell_type": "code",
   "execution_count": 17,
   "metadata": {},
   "outputs": [],
   "source": [
    "test_df.at[27, 'BsmtExposure'] = 'No'\n",
    "test_df.at[580, 'BsmtCond'] = 'TA'\n",
    "test_df.at[725, 'BsmtCond'] = 'TA'\n",
    "test_df.at[757, 'BsmtQual'] = 'TA'\n",
    "test_df.at[758, 'BsmtQual'] = 'TA'\n",
    "test_df.at[888, 'BsmtExposure'] = 'No'\n",
    "test_df.at[1064, 'BsmtCond'] = 'TA'"
   ]
  },
  {
   "cell_type": "code",
   "execution_count": 18,
   "metadata": {},
   "outputs": [],
   "source": [
    "test_df['BsmtExposure'].fillna('None', inplace=True)\n",
    "test_df['BsmtFinType2'].fillna('None', inplace=True)\n",
    "test_df['BsmtFinType1'].fillna('None', inplace=True)\n",
    "test_df['BsmtCond'].fillna('None', inplace=True)\n",
    "test_df['BsmtQual'].fillna('None', inplace=True)"
   ]
  },
  {
   "cell_type": "code",
   "execution_count": 19,
   "metadata": {},
   "outputs": [],
   "source": [
    "train_df['MasVnrArea'].fillna(0, inplace=True)"
   ]
  },
  {
   "cell_type": "code",
   "execution_count": 20,
   "metadata": {},
   "outputs": [],
   "source": [
    "train_df['MasVnrType'].fillna('None', inplace=True)"
   ]
  },
  {
   "cell_type": "code",
   "execution_count": 21,
   "metadata": {},
   "outputs": [],
   "source": [
    "test_df.at[1150, 'MasVnrType'] = 'BrkFace'\n",
    "test_df['MasVnrType'].fillna('None', inplace=True)\n",
    "test_df['MasVnrArea'].fillna(test_df['MasVnrArea'].median(), inplace=True)"
   ]
  },
  {
   "cell_type": "code",
   "execution_count": 22,
   "metadata": {},
   "outputs": [],
   "source": [
    "train_df['Electrical'].fillna('Sbrkr', inplace=True)"
   ]
  },
  {
   "cell_type": "code",
   "execution_count": 23,
   "metadata": {},
   "outputs": [],
   "source": [
    "test_df['MSZoning'].fillna('RL', inplace=True)\n",
    "test_df['Utilities'].fillna('AllPub', inplace=True)\n",
    "test_df['Exterior1st'].fillna('VinylSd', inplace=True)\n",
    "test_df['Exterior2nd'].fillna('VinylSd', inplace=True)\n",
    "test_df['BsmtFullBath'].fillna(0, inplace=True)\n",
    "test_df['BsmtHalfBath'].fillna(0, inplace=True)\n",
    "test_df['KitchenQual'].fillna('TA', inplace=True)\n",
    "test_df['Functional'].fillna('Typ', inplace=True)\n",
    "test_df['GarageCars'].fillna(2, inplace=True)\n",
    "test_df['SaleType'].fillna('WD', inplace=True)"
   ]
  },
  {
   "cell_type": "code",
   "execution_count": 24,
   "metadata": {
    "scrolled": true
   },
   "outputs": [
    {
     "data": {
      "text/plain": [
       "0"
      ]
     },
     "execution_count": 24,
     "metadata": {},
     "output_type": "execute_result"
    }
   ],
   "source": [
    "test_df.isnull().sum().sum()"
   ]
  },
  {
   "cell_type": "code",
   "execution_count": 25,
   "metadata": {},
   "outputs": [
    {
     "data": {
      "text/plain": [
       "0"
      ]
     },
     "execution_count": 25,
     "metadata": {},
     "output_type": "execute_result"
    }
   ],
   "source": [
    "train_df.isnull().sum().sum()"
   ]
  },
  {
   "cell_type": "markdown",
   "metadata": {},
   "source": [
    "### Drop Id, SalePrice"
   ]
  },
  {
   "cell_type": "code",
   "execution_count": 26,
   "metadata": {},
   "outputs": [],
   "source": [
    "train_df.drop(columns=['Id', 'SalePrice'], inplace=True)\n",
    "test_df.drop(columns=['Id'], inplace=True)"
   ]
  },
  {
   "cell_type": "code",
   "execution_count": 27,
   "metadata": {},
   "outputs": [
    {
     "data": {
      "text/plain": [
       "((1460, 77), (1459, 77))"
      ]
     },
     "execution_count": 27,
     "metadata": {},
     "output_type": "execute_result"
    }
   ],
   "source": [
    "train_df.shape, test_df.shape"
   ]
  },
  {
   "cell_type": "markdown",
   "metadata": {},
   "source": [
    "### Process outliers"
   ]
  },
  {
   "cell_type": "code",
   "execution_count": 28,
   "metadata": {
    "scrolled": true
   },
   "outputs": [
    {
     "name": "stdout",
     "output_type": "stream",
     "text": [
      "Current list of outliers  [934, 523, 1298, 691, 1182]\n"
     ]
    }
   ],
   "source": [
    "outliers = {934, 523, 1298, 691, 1182}\n",
    "print('Current list of outliers ', list(outliers))"
   ]
  },
  {
   "cell_type": "code",
   "execution_count": 29,
   "metadata": {},
   "outputs": [],
   "source": [
    "train_df.drop(index=list(outliers), inplace=True)"
   ]
  },
  {
   "cell_type": "code",
   "execution_count": 30,
   "metadata": {},
   "outputs": [],
   "source": [
    "data_df.drop(index=list(outliers), inplace=True)"
   ]
  },
  {
   "cell_type": "markdown",
   "metadata": {},
   "source": [
    "### Process categorical features"
   ]
  },
  {
   "cell_type": "code",
   "execution_count": 31,
   "metadata": {},
   "outputs": [],
   "source": [
    "dummies = pd.get_dummies(pd.concat((train_df, test_df), axis=0))"
   ]
  },
  {
   "cell_type": "code",
   "execution_count": 32,
   "metadata": {},
   "outputs": [
    {
     "data": {
      "text/plain": [
       "(2914, 395)"
      ]
     },
     "execution_count": 32,
     "metadata": {},
     "output_type": "execute_result"
    }
   ],
   "source": [
    "dummies.shape"
   ]
  },
  {
   "cell_type": "code",
   "execution_count": 33,
   "metadata": {},
   "outputs": [],
   "source": [
    "X = dummies.iloc[:train_df.shape[0]]\n",
    "X_test = dummies.iloc[train_df.shape[0]:]"
   ]
  },
  {
   "cell_type": "code",
   "execution_count": 34,
   "metadata": {
    "scrolled": true
   },
   "outputs": [
    {
     "data": {
      "text/plain": [
       "((1455, 395), (1459, 395))"
      ]
     },
     "execution_count": 34,
     "metadata": {},
     "output_type": "execute_result"
    }
   ],
   "source": [
    "X.shape, X_test.shape"
   ]
  }
 ],
 "metadata": {
  "kernelspec": {
   "display_name": "Python 3",
   "language": "python",
   "name": "python3"
  },
  "language_info": {
   "codemirror_mode": {
    "name": "ipython",
    "version": 3
   },
   "file_extension": ".py",
   "mimetype": "text/x-python",
   "name": "python",
   "nbconvert_exporter": "python",
   "pygments_lexer": "ipython3",
   "version": "3.6.8"
  }
 },
 "nbformat": 4,
 "nbformat_minor": 2
}
